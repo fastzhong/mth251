{
 "cells": [
  {
   "cell_type": "code",
   "execution_count": null,
   "metadata": {},
   "outputs": [],
   "source": [
    "print(\"Hello, world!\")"
   ]
  },
  {
   "cell_type": "markdown",
   "metadata": {},
   "source": [
    "# number: int, long, float, complex "
   ]
  },
  {
   "cell_type": "code",
   "execution_count": null,
   "metadata": {},
   "outputs": [],
   "source": [
    "type(10)"
   ]
  },
  {
   "cell_type": "code",
   "execution_count": null,
   "metadata": {},
   "outputs": [],
   "source": [
    "type(1+1)"
   ]
  },
  {
   "cell_type": "code",
   "execution_count": null,
   "metadata": {},
   "outputs": [],
   "source": [
    "type(0.1)"
   ]
  },
  {
   "cell_type": "code",
   "execution_count": null,
   "metadata": {},
   "outputs": [],
   "source": [
    "type(1+0.1)"
   ]
  },
  {
   "cell_type": "code",
   "execution_count": null,
   "metadata": {},
   "outputs": [],
   "source": [
    "type(2*2.2)"
   ]
  },
  {
   "cell_type": "code",
   "execution_count": null,
   "metadata": {},
   "outputs": [],
   "source": [
    "type(2/1)"
   ]
  },
  {
   "cell_type": "code",
   "execution_count": null,
   "metadata": {},
   "outputs": [],
   "source": [
    "type(3//2)"
   ]
  },
  {
   "cell_type": "code",
   "execution_count": null,
   "metadata": {},
   "outputs": [],
   "source": [
    "type(2//0.5)"
   ]
  },
  {
   "cell_type": "code",
   "execution_count": null,
   "metadata": {},
   "outputs": [],
   "source": [
    "type(10+1j)"
   ]
  },
  {
   "cell_type": "markdown",
   "metadata": {},
   "source": [
    "# string: '', \"\", \\', \\t, \\n, \\r"
   ]
  },
  {
   "cell_type": "code",
   "execution_count": null,
   "metadata": {},
   "outputs": [],
   "source": [
    "type(\"10\")"
   ]
  },
  {
   "cell_type": "code",
   "execution_count": null,
   "metadata": {},
   "outputs": [],
   "source": [
    "type(\"let's go\")"
   ]
  },
  {
   "cell_type": "code",
   "execution_count": null,
   "metadata": {},
   "outputs": [],
   "source": [
    "type('let\\'s go')"
   ]
  },
  {
   "cell_type": "code",
   "execution_count": null,
   "metadata": {},
   "outputs": [],
   "source": [
    "\"Hello\" + \", \" + \"world!\""
   ]
  },
  {
   "cell_type": "code",
   "execution_count": null,
   "metadata": {},
   "outputs": [],
   "source": [
    "\"123\" * 3"
   ]
  },
  {
   "cell_type": "markdown",
   "metadata": {},
   "source": [
    "# boolean: True, False, \n",
    "# operator: and, or, !"
   ]
  },
  {
   "cell_type": "code",
   "execution_count": null,
   "metadata": {},
   "outputs": [],
   "source": [
    "1 == 2"
   ]
  },
  {
   "cell_type": "code",
   "execution_count": null,
   "metadata": {},
   "outputs": [],
   "source": [
    "1 != 2 "
   ]
  },
  {
   "cell_type": "code",
   "execution_count": null,
   "metadata": {},
   "outputs": [],
   "source": [
    "price = 15\n",
    "print(price > 10 and price < 20)"
   ]
  },
  {
   "cell_type": "markdown",
   "metadata": {},
   "source": [
    "# variable"
   ]
  },
  {
   "cell_type": "code",
   "execution_count": null,
   "metadata": {
    "scrolled": true
   },
   "outputs": [],
   "source": [
    "name = input(\"Enter your name: \")\n",
    "print(\"Hello, %s!\" % name)"
   ]
  },
  {
   "cell_type": "markdown",
   "metadata": {},
   "source": [
    "# type converson: int(), float(), bool() "
   ]
  },
  {
   "cell_type": "code",
   "execution_count": null,
   "metadata": {},
   "outputs": [],
   "source": [
    "birth_year = input(\"Enter your birth year: \")\n",
    "age = 2021 - int(birth_year)  \n",
    "print(\"Your age: \" + str(age))"
   ]
  },
  {
   "cell_type": "code",
   "execution_count": null,
   "metadata": {},
   "outputs": [],
   "source": [
    "first = float(input(\"First: \")) \n",
    "second = float(input(\"Second: \"))\n",
    "total = first + second\n",
    "print (\"Sum: \" + str(total))"
   ]
  },
  {
   "cell_type": "code",
   "execution_count": null,
   "metadata": {},
   "outputs": [],
   "source": [
    "course = \"MTH251 data structure and algorithm I\"\n",
    "print(course.replace('MTH251', 'Python'))\n",
    "print(\"MTH251 in course: \" + str(course.find('MTH251')))\n",
    "print(course)"
   ]
  },
  {
   "cell_type": "code",
   "execution_count": null,
   "metadata": {},
   "outputs": [],
   "source": [
    "x, y, z = 1, 2, \"123\"\n",
    "print(x, y, z)\n",
    "x, y = y, x\n",
    "print(x, y, z)\n",
    "a = b = c = \"sg\"\n",
    "print(a, b, c)"
   ]
  },
  {
   "cell_type": "code",
   "execution_count": null,
   "metadata": {},
   "outputs": [],
   "source": [
    "x = \"1\"\n",
    "y = \"2\"\n",
    "print(id(\"1\"))\n",
    "print(id(\"2\"))\n",
    "print(id(x))\n",
    "print(id(y))\n",
    "x = \"2\"\n",
    "y = \"1\"\n",
    "print(id(x))\n",
    "print(id(y))\n",
    "x = y\n",
    "print(id(x))\n",
    "print(id(y))"
   ]
  },
  {
   "cell_type": "markdown",
   "metadata": {},
   "source": [
    "# list, tuple, set, dictionary"
   ]
  },
  {
   "cell_type": "code",
   "execution_count": null,
   "metadata": {},
   "outputs": [],
   "source": [
    "letters1 = ['a', 'b', 'c']\n",
    "letters2 = list(('1', 2, '3'))\n",
    "print(letters1)\n",
    "print(letters2)\n",
    "print(len(letters1))"
   ]
  },
  {
   "cell_type": "code",
   "execution_count": null,
   "metadata": {},
   "outputs": [],
   "source": [
    "nums = [0, 1, 2, 3, 4, 5, 6]\n",
    "print(nums)\n",
    "print(nums[0])\n",
    "print(nums[1:2])\n",
    "print(nums[:2])\n",
    "print(nums[-1])\n",
    "print(nums[-3:-1])\n",
    "print(nums[-3:])\n",
    "# start:stop:step\n",
    "print(nums[::2])\n",
    "print(nums[::-1])\n",
    "print(nums[4:6:])\n",
    "print(nums[-2:-4:-1])\n",
    "nums[0] = -1\n",
    "print(nums)\n",
    "print(nums.index(-1))\n",
    "# print(nums.index(0))\n",
    "n = 0\n",
    "if (n in nums): \n",
    "    print(nums.index(n))\n",
    "else: \n",
    "    print(\"%d not in %s\" % (n, nums))"
   ]
  },
  {
   "cell_type": "code",
   "execution_count": null,
   "metadata": {},
   "outputs": [],
   "source": [
    "fruits1 = ['apple', 'banana']\n",
    "fruits1.insert(0, 'orange')\n",
    "fruits1.remove('apple')\n",
    "fruits2 = fruits1.copy()\n",
    "del fruits2[1]\n",
    "print(fruits1)\n",
    "print(fruits2)"
   ]
  },
  {
   "cell_type": "code",
   "execution_count": null,
   "metadata": {},
   "outputs": [],
   "source": [
    "nums1 = [1, 2, 3]\n",
    "nums2 = [4, 5, 6]\n",
    "print(nums1 * 3)\n",
    "print(nums1 + nums2)\n",
    "nums1.reverse()\n",
    "print(nums1)\n",
    "nums1.sort()\n",
    "print(nums1)"
   ]
  },
  {
   "cell_type": "code",
   "execution_count": null,
   "metadata": {},
   "outputs": [],
   "source": [
    "tup = (1,2,3)\n",
    "print(tup)\n",
    "print(min(tup))\n",
    "print(max(tup))"
   ]
  },
  {
   "cell_type": "code",
   "execution_count": null,
   "metadata": {},
   "outputs": [],
   "source": [
    "list1 = ['a', 'a', 'b', 'b', 'c']\n",
    "# set1 = {'a', 'a', 'b', 'b', 'c'}\n",
    "set1 = set('123')\n",
    "set2 = set('3456')\n",
    "print(set1 - set2)\n",
    "print(set1 | set2)\n",
    "print(set1 & set2)\n",
    "print(set1 ^ set2)"
   ]
  },
  {
   "cell_type": "code",
   "execution_count": null,
   "metadata": {},
   "outputs": [],
   "source": [
    "student1 = {'name': 'Alex', 'gender': 'M', 'age': 20, 'grade': 'A'}\n",
    "student2 = {'name': 'Bob', 'gender': 'M', 'age': 21, 'grade': 'B'}\n",
    "student3 = {'name': 'Jade', 'gender': 'F', 'age': 20, 'grade': 'A+', 'partime': True}\n",
    "class251 = [student1, student2, student3]\n",
    "print(class251)"
   ]
  },
  {
   "cell_type": "markdown",
   "metadata": {},
   "source": [
    "# if/else"
   ]
  },
  {
   "cell_type": "code",
   "execution_count": null,
   "metadata": {},
   "outputs": [],
   "source": [
    "temperature = float(input(\"temperature of today: \"))\n",
    "\n",
    "if (temperature > 32): \n",
    "    print(\"it is a hot day\")\n",
    "    print(\"pls drink watr\")\n",
    "elif (temperature > 22): \n",
    "    print(\"it is a nice day\")\n",
    "else: \n",
    "    print(\"it is a cold day\")"
   ]
  },
  {
   "cell_type": "markdown",
   "metadata": {},
   "source": [
    "# while, for loop "
   ]
  },
  {
   "cell_type": "code",
   "execution_count": null,
   "metadata": {},
   "outputs": [],
   "source": [
    "i = 100 \n",
    "while (i < 200): \n",
    "    print(i)\n",
    "    i += 10\n",
    "nums = [0, 1, 2, 3, 4, 5, 6]\n",
    "for i in nums:\n",
    "    print(i)"
   ]
  },
  {
   "cell_type": "markdown",
   "metadata": {},
   "source": [
    "# function"
   ]
  },
  {
   "cell_type": "code",
   "execution_count": null,
   "metadata": {},
   "outputs": [],
   "source": [
    "def sum1(a, b): \n",
    "    return a + b\n",
    "\n",
    "print(sum1(1, 2))\n",
    "\n",
    "\n",
    "def sum2(*nums):\n",
    "    total = 0\n",
    "    for i in nums: \n",
    "        total += i\n",
    "    return total \n",
    "\n",
    "print(sum2(1, 2, 3, 4))\n",
    "\n",
    "\n",
    "def add_student(fullname, gender='M', age=20):\n",
    "    return {'name': fullname, 'gender': gender, 'age': age}\n",
    "\n",
    "print(add_student(fullname='Alex'))\n",
    "print(add_student(fullname='Jade', age=20, gender='F'))\n",
    "\n",
    "full_name = lambda student: student['first_name'] + ' ' + student['second_name']\n",
    "student1 = {'first_name': 'Alan', 'second_name': 'Zhong', 'gender': 'M', 'age': 20, 'grade': 'A'}\n",
    "print(full_name(student1))"
   ]
  },
  {
   "cell_type": "markdown",
   "metadata": {},
   "source": [
    "# variable scope"
   ]
  },
  {
   "cell_type": "code",
   "execution_count": 1,
   "metadata": {},
   "outputs": [
    {
     "name": "stdout",
     "output_type": "stream",
     "text": [
      "func1:  10000\n",
      "after fun1:  10000\n",
      "func2:  1\n",
      "after fun2:  10000\n",
      "10000\n",
      "func3:  1\n",
      "after fun2:  3\n"
     ]
    }
   ],
   "source": [
    "x = 10000 \n",
    "\n",
    "def fun1():\n",
    "    print(\"func1: \", x)\n",
    "    \n",
    "def fun2():\n",
    "    x = 1\n",
    "    print(\"func2: \", x)\n",
    "\n",
    "def fun3():\n",
    "    global x\n",
    "    print(x)\n",
    "    x = 1\n",
    "    print(\"func3: \", x)\n",
    "    \n",
    "fun1()\n",
    "print(\"after fun1: \", x)\n",
    "fun2()\n",
    "print(\"after fun2: \", x)\n",
    "fun3()\n",
    "print(\"after fun2: \", 3)"
   ]
  },
  {
   "cell_type": "markdown",
   "metadata": {},
   "source": [
    "# class"
   ]
  },
  {
   "cell_type": "code",
   "execution_count": null,
   "metadata": {},
   "outputs": [],
   "source": [
    "# define the class\n",
    "class Person: \n",
    "    # attributes \n",
    "    name = ''\n",
    "    gender = ''\n",
    "    age = 0 \n",
    "    # methods \n",
    "    def greet(self): \n",
    "        print(\"Hi, my name is \" + self.name)\n",
    "\n",
    "# create instance\n",
    "p1 = Person()\n",
    "# assign attributes \n",
    "p1.name = 'Alex'\n",
    "p1.gender = 'M'\n",
    "p1.age = 20\n",
    "# call methods \n",
    "p1.greet()\n",
    "\n",
    "import copy\n",
    "p2 = copy.deepcopy(p1)\n",
    "p2.name = 'Bob'\n",
    "p2.greet()\n",
    "\n",
    "# child class \n",
    "class Student(Person):\n",
    "    # attributes\n",
    "    grade = ''\n",
    "    # methods \n",
    "    def score(self, s): \n",
    "        if s > 80: \n",
    "            self.grade = 'A'\n",
    "        elif s > 70:\n",
    "            self.grade = 'B'\n",
    "        elif s > 60:\n",
    "            self.grade = 'C'\n",
    "        else:\n",
    "            self.grade = 'D'\n",
    "    def greet(self):\n",
    "        Person.greet(self)\n",
    "        print(\"my grade is \" + self.grade)\n",
    "\n",
    "# create instance\n",
    "s1 = Student()\n",
    "# assign attributes \n",
    "s1.name = 'Alex'\n",
    "s1.gender = 'M'\n",
    "s1.age = 20\n",
    "# call methods \n",
    "s1.score(100)\n",
    "s1.greet()\n",
    "\n",
    "# Polymorphism \n",
    "class Teacher(Person):\n",
    "    def greet(self):\n",
    "        Person.greet(self)\n",
    "        print(\"I am teaching class MTH\")\n",
    "\n",
    "def greet(p):\n",
    "    p.greet()\n",
    "\n",
    "t1 = Teacher()\n",
    "t1.name = 'Alan'\n",
    "greet(t1)\n",
    "s2 = copy.deepcopy(s1)\n",
    "s2.name = 'Bob'\n",
    "greet(s2)"
   ]
  },
  {
   "cell_type": "markdown",
   "metadata": {},
   "source": [
    "# Big-O"
   ]
  },
  {
   "cell_type": "code",
   "execution_count": null,
   "metadata": {},
   "outputs": [],
   "source": [
    "# O(1)\n",
    "n = 10\n",
    "print(\"Hi, the number is \", n)\n",
    "n = n * 10\n",
    "print(\"Hi, the number is 10 times bigger now\", n)"
   ]
  },
  {
   "cell_type": "code",
   "execution_count": null,
   "metadata": {},
   "outputs": [],
   "source": [
    "# O(n)\n",
    "n = 10\n",
    "for i in range(n):\n",
    "    print(\"index is \", i)"
   ]
  },
  {
   "cell_type": "code",
   "execution_count": null,
   "metadata": {},
   "outputs": [],
   "source": [
    "# O(n^2)\n",
    "n = 10\n",
    "for i in range(n):\n",
    "    for j in range(i,n):\n",
    "        print(\"index is \", i, j)"
   ]
  },
  {
   "cell_type": "code",
   "execution_count": 2,
   "metadata": {},
   "outputs": [
    {
     "name": "stdout",
     "output_type": "stream",
     "text": [
      "final:  128\n",
      "count:  7\n",
      "final:  100\n",
      "count:  2\n"
     ]
    }
   ],
   "source": [
    "# O(logN)\n",
    "# example1\n",
    "n = 100\n",
    "i = 1\n",
    "j = 0\n",
    "while (i < n): \n",
    "    i = i * 2\n",
    "    j = j + 1\n",
    "print(\"final: \", i)\n",
    "print(\"count: \", j)\n",
    "\n",
    "# example2\n",
    "n = 100\n",
    "i = 1\n",
    "j = 0\n",
    "while (i < n): \n",
    "    i = i * 10\n",
    "    j = j + 1\n",
    "print(\"final: \", i)\n",
    "print(\"count: \", j)"
   ]
  },
  {
   "cell_type": "code",
   "execution_count": null,
   "metadata": {},
   "outputs": [],
   "source": [
    "# O(?): O(T*depth) \n",
    "# F(n) = F(n-1) + F(n-2)\n",
    "def fib(n): \n",
    "    if (n < 2):\n",
    "        return n\n",
    "    x = fib(n-1) + fib(n-2)\n",
    "    return x\n",
    "\n",
    "print(\"fib(10): \", fib(10))"
   ]
  },
  {
   "cell_type": "markdown",
   "metadata": {},
   "source": [
    "# Complexity Analysis \n",
    "- best case \n",
    "- worst case \n",
    "- average case \n",
    "- amortized "
   ]
  },
  {
   "cell_type": "code",
   "execution_count": 6,
   "metadata": {},
   "outputs": [
    {
     "name": "stdout",
     "output_type": "stream",
     "text": [
      "best case  -   0 in list:  True\n",
      "worst case -  99 in list:  True\n",
      "avg case   -  50 in list:  True\n",
      "avg case   - 100 in list:  False\n"
     ]
    }
   ],
   "source": [
    "def find(l, x):\n",
    "    for i in l: \n",
    "        if i == x: \n",
    "            return True\n",
    "    return False \n",
    "\n",
    "ints = list(range(100))\n",
    "\n",
    "print(\"best case  -   0 in list: \", find(ints, 0))\n",
    "print(\"worst case -  99 in list: \", find(ints, 99))\n",
    "print(\"avg case   -  50 in list: \", find(ints, 50))\n",
    "print(\"avg case   - 100 in list: \", find(ints, 100))"
   ]
  },
  {
   "cell_type": "markdown",
   "metadata": {},
   "source": [
    "# Linear Search "
   ]
  },
  {
   "cell_type": "code",
   "execution_count": 1,
   "metadata": {},
   "outputs": [
    {
     "name": "stdout",
     "output_type": "stream",
     "text": [
      "solution1 15 in the list: 4\n",
      "solution2 15 in the list: 4\n",
      "solution1 77 in the list: 6\n",
      "solution2 77 in the list: 6\n",
      "solution1 11 in the list: -1\n",
      "solution2 11 in the list: -1\n"
     ]
    }
   ],
   "source": [
    "# O(n)\n",
    "def linear_search1(data_list, target):\n",
    "    size = len(data_list)\n",
    "    for idx in range(size): \n",
    "        if (target == data_list[idx]):\n",
    "            return idx \n",
    "    return -1 \n",
    "\n",
    "# O(n)\n",
    "def linear_search2(data_list, target):\n",
    "    for idx, val in enumerate(data_list): \n",
    "        if (target == val):\n",
    "            return idx; \n",
    "    return -1 \n",
    "\n",
    "data_list = [1, 2, 3, 4, 15, 16, 77]\n",
    "target = 15 \n",
    "print(\"solution1 %d in the list: %d\" % (target, linear_search1(data_list, target)))\n",
    "print(\"solution2 %d in the list: %d\" % (target, linear_search2(data_list, target)))\n",
    "target = 77 \n",
    "print(\"solution1 %d in the list: %d\" % (target, linear_search1(data_list, target)))\n",
    "print(\"solution2 %d in the list: %d\" % (target, linear_search2(data_list, target)))\n",
    "target = 11\n",
    "print(\"solution1 %d in the list: %d\" % (target, linear_search1(data_list, target)))\n",
    "print(\"solution2 %d in the list: %d\" % (target, linear_search2(data_list, target)))"
   ]
  },
  {
   "cell_type": "markdown",
   "metadata": {},
   "source": [
    "# Binary Search"
   ]
  },
  {
   "cell_type": "code",
   "execution_count": 2,
   "metadata": {},
   "outputs": [
    {
     "name": "stdout",
     "output_type": "stream",
     "text": [
      "solution1 3 in the list[1, 2, 3, 44, 55, 66]: 2\n",
      "solution2 3 in the list[1, 2, 3, 44, 55, 66]: 2\n",
      "solution1 44 in the list[1, 2, 3, 44, 55, 66]: 3\n",
      "solution2 44 in the list[1, 2, 3, 44, 55, 66]: 3\n",
      "solution1 66 in the list[1, 2, 3, 44, 55, 66]: 5\n",
      "solution2 66 in the list[1, 2, 3, 44, 55, 66]: 5\n",
      "solution1 11 in the list[1, 2, 3, 44, 55, 66]: -1\n",
      "solution2 11 in the list[1, 2, 3, 44, 55, 66]: -1\n",
      "solution1 1 in the list[1]: 0\n",
      "solution2 1 in the list[1]: 0\n",
      "solution1 2 in the list[1]: -1\n",
      "solution2 2 in the list[1]: -1\n"
     ]
    }
   ],
   "source": [
    "# Recursion: O(logN) \n",
    "def binary_search1(search_list, target):\n",
    "    return binary_search1_imp(search_list, 0, len(search_list)-1, target)\n",
    "\n",
    "def binary_search1_imp(search_list, l, r, target):\n",
    "    if (l > r):\n",
    "        return - 1\n",
    "    m = l + (r - l) // 2\n",
    "    if (search_list[m] == target):\n",
    "            # target is found\n",
    "            return m\n",
    "    elif (search_list[m] < target):\n",
    "        # move left pointer\n",
    "        return binary_search1_imp(search_list, m+1, r, target)\n",
    "    else:\n",
    "        # move right pointer\n",
    "        return binary_search1_imp(search_list, l, m-1, target)    \n",
    "\n",
    "# non Recursion: O(logN)\n",
    "def binary_search2(data_list, target):\n",
    "    l, r = 0, len(data_list)-1\n",
    "    while l <= r: \n",
    "        m = int((l + r)/2)\n",
    "        if (data_list[m] == target):\n",
    "            # target is found\n",
    "            return m \n",
    "        elif (data_list[m] < target):\n",
    "            # move left pointer \n",
    "            l = m + 1 \n",
    "        else:\n",
    "            # move right pointer \n",
    "            r = m - 1\n",
    "    return -1\n",
    "\n",
    "def test(search_list, target):\n",
    "    print(\"solution1 %d in the list%s: %d\" % (target, search_list, binary_search1(search_list, target)))\n",
    "    print(\"solution2 %d in the list%s: %d\" % (target, search_list, binary_search2(search_list, target)))\n",
    "\n",
    "s = [1, 2, 3, 44, 55, 66]\n",
    "t = 3 \n",
    "test(s, t)\n",
    "t = 44 \n",
    "test(s, t)\n",
    "t = 66\n",
    "test(s, t)\n",
    "t = 11 \n",
    "test(s, t)\n",
    "\n",
    "s = [1]\n",
    "t = 1\n",
    "test(s, t)\n",
    "t = 2\n",
    "test(s, t)"
   ]
  },
  {
   "cell_type": "code",
   "execution_count": null,
   "metadata": {},
   "outputs": [],
   "source": []
  }
 ],
 "metadata": {
  "kernelspec": {
   "display_name": "Python 3",
   "language": "python",
   "name": "python3"
  },
  "language_info": {
   "codemirror_mode": {
    "name": "ipython",
    "version": 3
   },
   "file_extension": ".py",
   "mimetype": "text/x-python",
   "name": "python",
   "nbconvert_exporter": "python",
   "pygments_lexer": "ipython3",
   "version": "3.8.5"
  }
 },
 "nbformat": 4,
 "nbformat_minor": 4
}
