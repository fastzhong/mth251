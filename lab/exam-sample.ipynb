{
 "cells": [
  {
   "cell_type": "code",
   "execution_count": 6,
   "id": "liable-circuit",
   "metadata": {},
   "outputs": [
    {
     "name": "stdout",
     "output_type": "stream",
     "text": [
      "Enter a number: 3\n",
      "3\n",
      "3!: 6\n",
      "2!: 2\n",
      "1!: 1\n"
     ]
    }
   ],
   "source": [
    "# Q2\n",
    "# print n!, (n-1)!, ..., 1!\n",
    "n = int(input(\"Enter a number: \"))\n",
    "print(n)\n",
    "while(n > 0):\n",
    "    j = n + 1\n",
    "    y = 1\n",
    "    for i in range(1, j):\n",
    "        y = y*i\n",
    "    print(\"{0:d}!: {1:d}\".format(n, y))\n",
    "    n -= 1"
   ]
  },
  {
   "cell_type": "code",
   "execution_count": 15,
   "id": "infectious-arrest",
   "metadata": {},
   "outputs": [
    {
     "name": "stdout",
     "output_type": "stream",
     "text": [
      "The Factorial Function Result:  1\n",
      "The Factorial Function Result:  2\n",
      "The Factorial Function Result:  6\n",
      "The Factorial Function Result:  24\n",
      "The Factorial Function Result:  120\n",
      "The Factorial Function Result:  720\n",
      "The Factorial Function Result:  5040\n"
     ]
    },
    {
     "data": {
      "text/plain": [
       "5040"
      ]
     },
     "execution_count": 15,
     "metadata": {},
     "output_type": "execute_result"
    }
   ],
   "source": [
    "# Q2\n",
    "# 7!\n",
    "global result\n",
    "result = 1\n",
    "def fractorial_function(n): \n",
    "    global result\n",
    "    if n == 1:\n",
    "        print(\"The Factorial Function Result:  1\")\n",
    "        return 1\n",
    "    result = n * fractorial_function(n-1)\n",
    "    print(\"The Factorial Function Result: \", result)\n",
    "    return result\n",
    "fractorial_function(7)"
   ]
  },
  {
   "cell_type": "code",
   "execution_count": null,
   "id": "fewer-vatican",
   "metadata": {},
   "outputs": [],
   "source": []
  }
 ],
 "metadata": {
  "kernelspec": {
   "display_name": "Python 3",
   "language": "python",
   "name": "python3"
  },
  "language_info": {
   "codemirror_mode": {
    "name": "ipython",
    "version": 3
   },
   "file_extension": ".py",
   "mimetype": "text/x-python",
   "name": "python",
   "nbconvert_exporter": "python",
   "pygments_lexer": "ipython3",
   "version": "3.8.5"
  }
 },
 "nbformat": 4,
 "nbformat_minor": 5
}
